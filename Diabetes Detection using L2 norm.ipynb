{
 "cells": [
  {
   "cell_type": "markdown",
   "id": "598544f7",
   "metadata": {},
   "source": [
    "## Linear Algebra- Norms &amp; Distances for Classification-based algorithms \n",
    "## (a) Diabetes detection using L2-norm"
   ]
  },
  {
   "cell_type": "code",
   "execution_count": 1,
   "id": "dd576033",
   "metadata": {},
   "outputs": [],
   "source": [
    "import numpy as np"
   ]
  },
  {
   "cell_type": "code",
   "execution_count": 2,
   "id": "604bc929",
   "metadata": {},
   "outputs": [],
   "source": [
    "# Generating random data\n",
    "data1=np.random.randint(60,300,size=(100,1)) #Blood glucose\n",
    "data2=np.random.randint(60,200,size=(100,1))#Blood Pressure"
   ]
  },
  {
   "cell_type": "code",
   "execution_count": 4,
   "id": "fffadf63",
   "metadata": {},
   "outputs": [
    {
     "name": "stdout",
     "output_type": "stream",
     "text": [
      "Features shape: (100, 2)\n"
     ]
    }
   ],
   "source": [
    "# Concatenate the features\n",
    "features=np.concatenate((data1,data2),axis=1)\n",
    "print(\"Features shape:\", features.shape)"
   ]
  },
  {
   "cell_type": "code",
   "execution_count": 5,
   "id": "968a0971",
   "metadata": {},
   "outputs": [],
   "source": [
    "# Generate random labels (0 or 1)\n",
    "label=np.random.randint(0,2,size=(100,1))"
   ]
  },
  {
   "cell_type": "code",
   "execution_count": 6,
   "id": "5ad26255",
   "metadata": {},
   "outputs": [],
   "source": [
    "# Generate a random test vector\n",
    "test_vector=np.random.randint(60,300,size=(1,2))"
   ]
  },
  {
   "cell_type": "code",
   "execution_count": 7,
   "id": "4ff6b98c",
   "metadata": {},
   "outputs": [],
   "source": [
    "# Initialize distance as an empty list\n",
    "dist = []\n",
    "\n",
    "# Calculate L2 distance for each data point\n",
    "for i in range(features.shape[0]):\n",
    "    dist.append(np.linalg.norm(test_vector - features[i, :]))"
   ]
  },
  {
   "cell_type": "code",
   "execution_count": 8,
   "id": "5c80989d",
   "metadata": {},
   "outputs": [
    {
     "name": "stdout",
     "output_type": "stream",
     "text": [
      "The result is: [0]\n",
      "Index with the minimum distance: 88\n"
     ]
    }
   ],
   "source": [
    "a = np.argmin(dist)\n",
    "\n",
    "print(\"The result is:\", label[a])\n",
    "print(\"Index with the minimum distance:\", a)"
   ]
  },
  {
   "cell_type": "code",
   "execution_count": 9,
   "id": "cf89b2d2",
   "metadata": {},
   "outputs": [
    {
     "name": "stdout",
     "output_type": "stream",
     "text": [
      "Diabetic\n"
     ]
    }
   ],
   "source": [
    "threshold = 80  # Adjustable Threshold\n",
    "\n",
    "if dist[a] < threshold:\n",
    "    print(\"Diabetic\")\n",
    "else:\n",
    "    print(\"Non-Diabetic\")"
   ]
  }
 ],
 "metadata": {
  "kernelspec": {
   "display_name": "Python 3 (ipykernel)",
   "language": "python",
   "name": "python3"
  },
  "language_info": {
   "codemirror_mode": {
    "name": "ipython",
    "version": 3
   },
   "file_extension": ".py",
   "mimetype": "text/x-python",
   "name": "python",
   "nbconvert_exporter": "python",
   "pygments_lexer": "ipython3",
   "version": "3.11.3"
  }
 },
 "nbformat": 4,
 "nbformat_minor": 5
}
