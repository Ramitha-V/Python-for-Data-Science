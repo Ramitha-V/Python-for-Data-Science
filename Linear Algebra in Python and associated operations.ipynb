{
 "cells": [
  {
   "cell_type": "markdown",
   "id": "f561a9fa",
   "metadata": {},
   "source": [
    "## Exp-1:Linear Algebra in Python3 &amp; associated operations"
   ]
  },
  {
   "cell_type": "code",
   "execution_count": 21,
   "id": "43276608",
   "metadata": {},
   "outputs": [],
   "source": [
    "import numpy as np"
   ]
  },
  {
   "cell_type": "code",
   "execution_count": 22,
   "id": "a241779d",
   "metadata": {},
   "outputs": [
    {
     "name": "stdout",
     "output_type": "stream",
     "text": [
      "[1, 2, 3, 4]\n",
      "[1 2 3 4]\n",
      "[[[1 2 3 4]\n",
      "  [5 6 7 8]]]\n",
      "[[[ 1  2  3  4]\n",
      "  [ 5  6  7  8]\n",
      "  [ 9 10 11 12]]]\n"
     ]
    }
   ],
   "source": [
    "#Advantage of numpy library over lists\n",
    "#In list we cannot define 2D array or 3D array\n",
    "\n",
    "list=[1,2,3,4]\n",
    "print(list)\n",
    "\n",
    "#To create an array we use np.array funcion\n",
    "#Creating 1D array\n",
    "print(np.array([1,2,3,4]))\n",
    "\n",
    "#Creating 2D array\n",
    "print(np.array([[[1,2,3,4],\n",
    "               [5,6,7,8]]]))\n",
    "\n",
    "#Creating 3D array\n",
    "print(np.array([[[1,2,3,4],\n",
    "                [5,6,7,8],\n",
    "                [9,10,11,12]]]))\n",
    "\n",
    "\n",
    "\n"
   ]
  },
  {
   "cell_type": "code",
   "execution_count": 23,
   "id": "205db1f7",
   "metadata": {},
   "outputs": [
    {
     "data": {
      "text/plain": [
       "numpy.ndarray"
      ]
     },
     "execution_count": 23,
     "metadata": {},
     "output_type": "execute_result"
    }
   ],
   "source": [
    "# Type of array\n",
    "\n",
    "a=np.array([1,2,3,4])\n",
    "b=np.array([[1,2,3],\n",
    "           [4,5,6]])\n",
    "c=np.array([[[1,2,3,4],\n",
    "           [5,6,7,8],\n",
    "           [9,10,11,12]]])\n",
    "type(a)\n",
    "type(b)\n",
    "type(c)"
   ]
  },
  {
   "cell_type": "code",
   "execution_count": 24,
   "id": "154ccd88",
   "metadata": {},
   "outputs": [
    {
     "name": "stdout",
     "output_type": "stream",
     "text": [
      "4\n",
      "6\n",
      "12\n"
     ]
    }
   ],
   "source": [
    "#Size of array: total number of elements\n",
    "print(np.size(a))\n",
    "print(np.size(b))\n",
    "print(np.size(c))"
   ]
  },
  {
   "cell_type": "code",
   "execution_count": 25,
   "id": "850e486e",
   "metadata": {},
   "outputs": [
    {
     "name": "stdout",
     "output_type": "stream",
     "text": [
      "(4,)\n",
      "(2, 3)\n",
      "(1, 3, 4)\n"
     ]
    }
   ],
   "source": [
    "#shape of the array: gives the number of rows and columns\n",
    "\n",
    "print(a.shape) #no of columns\n",
    "print(b.shape) #no ofrows, columns\n",
    "print(c.shape) # no of array,no of rows, no columns\n"
   ]
  },
  {
   "cell_type": "code",
   "execution_count": 26,
   "id": "5e9cd60c",
   "metadata": {},
   "outputs": [
    {
     "name": "stdout",
     "output_type": "stream",
     "text": [
      "int32\n",
      "int32\n",
      "int32\n"
     ]
    }
   ],
   "source": [
    "#dtype: type of data present in the array\n",
    "print(a.dtype)\n",
    "print(b.dtype)\n",
    "print(c.dtype)"
   ]
  },
  {
   "cell_type": "code",
   "execution_count": 27,
   "id": "3be05785",
   "metadata": {},
   "outputs": [
    {
     "name": "stdout",
     "output_type": "stream",
     "text": [
      "float64\n"
     ]
    }
   ],
   "source": [
    "#changing the data type of the elements\n",
    "d=np.array([1.2,3.4])\n",
    "print(d.dtype)\n"
   ]
  },
  {
   "cell_type": "code",
   "execution_count": 31,
   "id": "2c81312c",
   "metadata": {},
   "outputs": [
    {
     "name": "stdout",
     "output_type": "stream",
     "text": [
      "[[1 4]\n",
      " [2 5]\n",
      " [3 6]]\n"
     ]
    }
   ],
   "source": [
    "#Transpose function\n",
    "print(b.transpose()) #doesnt work for 1D array\n"
   ]
  },
  {
   "cell_type": "code",
   "execution_count": 32,
   "id": "472f7bfd",
   "metadata": {},
   "outputs": [
    {
     "data": {
      "text/plain": [
       "array([[      0,       0,       0,       0],\n",
       "       [      0,       0,       0,       0],\n",
       "       [      0,       0,    1656,       0],\n",
       "       [      0, 6029410,       0, 3014754]])"
      ]
     },
     "execution_count": 32,
     "metadata": {},
     "output_type": "execute_result"
    }
   ],
   "source": [
    "#np.empty((rows,columns),data type)\n",
    "\n",
    "np.empty((4,4),dtype=int) #randomly generated array of given data type and size"
   ]
  },
  {
   "cell_type": "code",
   "execution_count": 34,
   "id": "3c343622",
   "metadata": {},
   "outputs": [
    {
     "data": {
      "text/plain": [
       "array([[1., 1.],\n",
       "       [1., 1.]])"
      ]
     },
     "execution_count": 34,
     "metadata": {},
     "output_type": "execute_result"
    }
   ],
   "source": [
    "#np.ones((rows,columns),data type)\n",
    "np.ones((2,2),dtype=float) #generates an array of ones of given data type and size\n",
    "\n"
   ]
  },
  {
   "cell_type": "code",
   "execution_count": 36,
   "id": "2e16006c",
   "metadata": {},
   "outputs": [
    {
     "data": {
      "text/plain": [
       "array([[0, 0],\n",
       "       [0, 0]])"
      ]
     },
     "execution_count": 36,
     "metadata": {},
     "output_type": "execute_result"
    }
   ],
   "source": [
    "#np.zeros((rows,columns),data type)\n",
    "np.zeros((2,2),dtype=int) #generates an array of zeroes of given data type and size"
   ]
  },
  {
   "cell_type": "code",
   "execution_count": 38,
   "id": "b77ed994",
   "metadata": {},
   "outputs": [
    {
     "name": "stdout",
     "output_type": "stream",
     "text": [
      "[['' '']\n",
      " ['' '']]\n",
      "[['1' '1' '1' '1']\n",
      " ['1' '1' '1' '1']\n",
      " ['1' '1' '1' '1']\n",
      " ['1' '1' '1' '1']]\n"
     ]
    }
   ],
   "source": [
    "print(np.zeros((2,2),dtype=str))\n",
    "print(np.ones((4,4),dtype=str))\n",
    " "
   ]
  },
  {
   "cell_type": "code",
   "execution_count": 39,
   "id": "549b18c7",
   "metadata": {},
   "outputs": [
    {
     "name": "stdout",
     "output_type": "stream",
     "text": [
      "[[False False]\n",
      " [False False]]\n",
      "[[ True  True  True  True]\n",
      " [ True  True  True  True]\n",
      " [ True  True  True  True]\n",
      " [ True  True  True  True]]\n"
     ]
    }
   ],
   "source": [
    "print(np.zeros((2,2),dtype=bool))\n",
    "print(np.ones((4,4),dtype=bool))"
   ]
  },
  {
   "cell_type": "code",
   "execution_count": 40,
   "id": "aa3ef4a0",
   "metadata": {},
   "outputs": [
    {
     "name": "stdout",
     "output_type": "stream",
     "text": [
      "[ 1  2  3  4  5  6  7  8  9 10 11 12 13 14 15 16 17 18 19]\n"
     ]
    }
   ],
   "source": [
    "#np.arange(start,stop,step)\n",
    "\n",
    "a=np.arange(1,20) #1 to 20 and skips 20 with the step as default 1\n",
    "print(a)"
   ]
  },
  {
   "cell_type": "code",
   "execution_count": 41,
   "id": "4167b3d0",
   "metadata": {},
   "outputs": [
    {
     "name": "stdout",
     "output_type": "stream",
     "text": [
      "[ 1  3  5  7  9 11 13 15 17 19]\n"
     ]
    }
   ],
   "source": [
    "b=np.arange(1,20,2) \n",
    "print(b)"
   ]
  },
  {
   "cell_type": "code",
   "execution_count": 48,
   "id": "fe56e5a3",
   "metadata": {},
   "outputs": [
    {
     "name": "stdout",
     "output_type": "stream",
     "text": [
      "[[1 2]\n",
      " [3 4]\n",
      " [5 6]\n",
      " [7 8]]\n"
     ]
    }
   ],
   "source": [
    "#arr.reshape((rows,columns))\n",
    "b=np.array([[1,2,3,4],\n",
    "           [5,6,7,8]])   #only when the product is the same\n",
    "print(b.reshape(4,2))"
   ]
  }
 ],
 "metadata": {
  "kernelspec": {
   "display_name": "Python 3 (ipykernel)",
   "language": "python",
   "name": "python3"
  },
  "language_info": {
   "codemirror_mode": {
    "name": "ipython",
    "version": 3
   },
   "file_extension": ".py",
   "mimetype": "text/x-python",
   "name": "python",
   "nbconvert_exporter": "python",
   "pygments_lexer": "ipython3",
   "version": "3.11.3"
  }
 },
 "nbformat": 4,
 "nbformat_minor": 5
}
