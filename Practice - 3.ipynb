{
 "cells": [
  {
   "cell_type": "code",
   "execution_count": 1,
   "id": "cf9b00d3",
   "metadata": {},
   "outputs": [],
   "source": [
    "import numpy as np"
   ]
  },
  {
   "cell_type": "markdown",
   "id": "bbf3fbcc",
   "metadata": {},
   "source": [
    "# Exercise 1: Matrix Addition\n",
    "- Write a function that takes two 2D NumPy arrays as input and returns their sum. Make sure to check if the matrices have the same dimensions before performing the addition."
   ]
  },
  {
   "cell_type": "code",
   "execution_count": 2,
   "id": "a2b6dac9",
   "metadata": {},
   "outputs": [
    {
     "name": "stdout",
     "output_type": "stream",
     "text": [
      "The sum of two matrices is:\n",
      "[[ 6  8]\n",
      " [10 12]]\n"
     ]
    }
   ],
   "source": [
    "def matrix_addition(matrix1,matrix2): #declaring a function matrix_addition()\n",
    "    sum=matrix1+matrix2\n",
    "    return sum\n",
    "\n",
    "a=[[1,2],[3,4]]  #nested list-1\n",
    "b=[[5,6],[7,8]]  #nested list-2\n",
    "\n",
    "matrix1=np.array(a)  #declaring first matrix\n",
    "matrix2=np.array(b)  #declaring second matrix \n",
    "if matrix1.shape==matrix2.shape:          # matrix.shape gives the size of the matrix and comparing the size two matrices\n",
    "    print(\"The sum of two matrices is:\")\n",
    "    print(matrix_addition(matrix1,matrix2))\n",
    "else:\n",
    "    print(\"Enter two matrices of the same order\")\n",
    "    "
   ]
  },
  {
   "cell_type": "markdown",
   "id": "dc3b3d90",
   "metadata": {},
   "source": [
    "#  Exercise 2: Matrix Subtraction\n",
    "- Write a function that takes two 2D NumPy arrays as input and returns their difference. Check if the matrices have the same dimensions before performing the subtraction."
   ]
  },
  {
   "cell_type": "code",
   "execution_count": 3,
   "id": "e2da7062",
   "metadata": {},
   "outputs": [
    {
     "name": "stdout",
     "output_type": "stream",
     "text": [
      "The difference between the matrices is:\n",
      "[[-4 -4]\n",
      " [-4 -4]]\n"
     ]
    }
   ],
   "source": [
    "def matrix_subtraction(matrix1,matrix2): #declaring function matrix_subtraction()\n",
    "    sub=matrix1-matrix2\n",
    "    return sub\n",
    "\n",
    "if matrix1.shape==matrix2.shape:  #comparing the size of the two matrices\n",
    "    print(\"The difference between the matrices is:\")\n",
    "    print(matrix_subtraction(matrix1,matrix2))\n",
    "else:\n",
    "    print(\"Enter two matrices of the same order\")\n",
    "    "
   ]
  },
  {
   "cell_type": "markdown",
   "id": "d286bbee",
   "metadata": {},
   "source": [
    "# Exercise 3: Matrix Transpose\n",
    "- Write a function that takes a 2D NumPy array as input and returns its transpose (switching rows with columns).\n"
   ]
  },
  {
   "cell_type": "code",
   "execution_count": 4,
   "id": "102aec96",
   "metadata": {},
   "outputs": [
    {
     "name": "stdout",
     "output_type": "stream",
     "text": [
      "The transpose of the matrix is\n",
      "[[1 3]\n",
      " [2 4]]\n"
     ]
    }
   ],
   "source": [
    "def matrix_transpose(matrix1):#declaring the function matrix_transpose \n",
    "    transpose=np.transpose(matrix1)\n",
    "    return transpose\n",
    "\n",
    "print(\"The transpose of the matrix is\")\n",
    "print(matrix_transpose(matrix1))\n",
    "\n",
    "    "
   ]
  },
  {
   "cell_type": "markdown",
   "id": "ce97a0f5",
   "metadata": {},
   "source": [
    "# Exercise 4: Identity Matrix\n",
    "- Write a function that takes an integer n as input and returns an n x n identity matrix, i.e., a square matrix with 1's on the main diagonal and 0's elsewhere.\n"
   ]
  },
  {
   "cell_type": "code",
   "execution_count": 5,
   "id": "78b14365",
   "metadata": {},
   "outputs": [
    {
     "name": "stdout",
     "output_type": "stream",
     "text": [
      "Enter the order of the identity matrix:5\n",
      "The identity matrix of order 5 is\n",
      "[[1 0 0 0 0]\n",
      " [0 1 0 0 0]\n",
      " [0 0 1 0 0]\n",
      " [0 0 0 1 0]\n",
      " [0 0 0 0 1]]\n"
     ]
    }
   ],
   "source": [
    "def matrix_identity(n): #declaring the function matrix_identity()\n",
    "    identity=(np.eye((n),dtype=int)) #dtype=int: changing data type to integer\n",
    "    return identity\n",
    "\n",
    "n=int(input(\"Enter the order of the identity matrix:\")) #user input for the order of matrix\n",
    "print(\"The identity matrix of order\",n,\"is\")\n",
    "print(matrix_identity(n))\n"
   ]
  },
  {
   "cell_type": "markdown",
   "id": "98662ed1",
   "metadata": {},
   "source": [
    "# Exercise 5: Eigenvalues and Eigenvectors\n",
    "- Write a function that takes a 2D NumPy array as input and returns the eigenvalues and corresponding eigenvectors of the matrix.\n"
   ]
  },
  {
   "cell_type": "code",
   "execution_count": 6,
   "id": "83266d38",
   "metadata": {},
   "outputs": [
    {
     "name": "stdout",
     "output_type": "stream",
     "text": [
      "Eigenvalues\n",
      "[-0.37228132  5.37228132]\n",
      "Eigenvectors\n",
      "[[-0.82456484 -0.41597356]\n",
      " [ 0.56576746 -0.90937671]]\n"
     ]
    }
   ],
   "source": [
    "def matrix_eigenvalues_eigenvectors(matrix1): #declaring function matrix_eigenvalues_eigenvectors()\n",
    "    eigenvalues,eigenvectors=np.linalg.eig(matrix1) #finding the eigen values and vectors\n",
    "    return eigenvalues,eigenvectors\n",
    "\n",
    "eigenvalues,eigenvectors=matrix_eigenvalues_eigenvectors(matrix1)\n",
    "print(\"Eigenvalues\") #Printing eigen values\n",
    "print(eigenvalues)\n",
    "print(\"Eigenvectors\") #Printing eigen vectors\n",
    "print(eigenvectors)"
   ]
  },
  {
   "cell_type": "markdown",
   "id": "cec9d437",
   "metadata": {},
   "source": [
    "# Norm Exercises"
   ]
  },
  {
   "cell_type": "markdown",
   "id": "c03e1ae1",
   "metadata": {},
   "source": [
    "# Exercise 6: Vector Norm\n",
    "- Write a function that takes a 1D NumPy array as input and returns its L2 norm, also known as the Euclidean norm.\n"
   ]
  },
  {
   "cell_type": "code",
   "execution_count": 7,
   "id": "2838125d",
   "metadata": {},
   "outputs": [
    {
     "name": "stdout",
     "output_type": "stream",
     "text": [
      "The Euclidean/L2 norm is\n",
      "3.7416573867739413\n"
     ]
    }
   ],
   "source": [
    "def Euclidean_norm(array): #defining a function Euclidean_norm()\n",
    "    L2_norm=np.linalg.norm(array,ord=2) #finding Eucliean norm\n",
    "    return L2_norm\n",
    "\n",
    "list=[1,2,3]\n",
    "array=np.array(list) #initialising 1D array\n",
    "print(\"The Euclidean/L2 norm is\")\n",
    "print(Euclidean_norm(array))\n"
   ]
  },
  {
   "cell_type": "markdown",
   "id": "a29798bc",
   "metadata": {},
   "source": [
    "# Exercise 7: Matrix Norm\n",
    "- Write a function that takes a 2D NumPy array as input and returns its Frobenius norm, which is the square root of the sum of squares of all elements in the matrix.\n"
   ]
  },
  {
   "cell_type": "code",
   "execution_count": 8,
   "id": "31ffd598",
   "metadata": {},
   "outputs": [
    {
     "name": "stdout",
     "output_type": "stream",
     "text": [
      "The Forbenius norm is\n",
      "8.774964387392123\n"
     ]
    }
   ],
   "source": [
    "def Frobenius_norm(array): # Declaring a function Frobenius_norm()\n",
    "    matrix_norm=np.linalg.norm(array,ord=2) # Frobenius norm is also called as the Euclidean norm\n",
    "    return matrix_norm\n",
    "\n",
    "list=[4,5,6]\n",
    "array=np.array(list) # declaring a 1D array\n",
    "print(\"The Forbenius norm is\")\n",
    "print(Frobenius_norm(array))\n"
   ]
  },
  {
   "cell_type": "markdown",
   "id": "00a5df76",
   "metadata": {},
   "source": [
    "# Exercise 8: Normalize a Vector\n",
    "- Write a function that takes a 1D NumPy array as input and returns its normalized version, i.e., a vector with the same direction but unit length.\n"
   ]
  },
  {
   "cell_type": "code",
   "execution_count": 9,
   "id": "ff53a295",
   "metadata": {},
   "outputs": [
    {
     "name": "stdout",
     "output_type": "stream",
     "text": [
      "The normalised vector is\n",
      "[0.18257419 0.36514837 0.54772256 0.73029674]\n"
     ]
    }
   ],
   "source": [
    "def Normalise_vector(arr):#declaring a function Normalise_vector()\n",
    "    L2_norm=np.linalg.norm(arr,ord=2) #finding the Euclidean norm\n",
    "    normalise_vector=arr/L2_norm # normalize vector=vector/Euclidean norm\n",
    "    return normalise_vector\n",
    "    \n",
    "arr=np.array([1,2,3,4]) # initialising a 1D array\n",
    "print(\"The normalised vector is\")\n",
    "print(Normalise_vector(arr))\n",
    "\n"
   ]
  },
  {
   "cell_type": "markdown",
   "id": "eeeb8086",
   "metadata": {},
   "source": [
    "# Exercise 9: Condition Number of a Matrix\n",
    "- Write a function that takes a 2D NumPy array as input and returns its condition number, which indicates the sensitivity of the matrix to changes in the input.\n"
   ]
  },
  {
   "cell_type": "code",
   "execution_count": 10,
   "id": "95ddbb70",
   "metadata": {},
   "outputs": [
    {
     "name": "stdout",
     "output_type": "stream",
     "text": [
      "The Condition number is\n",
      "114.99130369020982\n"
     ]
    }
   ],
   "source": [
    "def matrix_conditional(array): # declaring a function matrix_conditional()\n",
    "    cond=np.linalg.cond(array) #finding the conditional number\n",
    "    return cond\n",
    "\n",
    "array=np.array([[6,7],[8,9]]) # intialising a 2D array\n",
    "print(\"The Condition number is\")\n",
    "print(matrix_conditional(array))\n"
   ]
  },
  {
   "cell_type": "markdown",
   "id": "7d68c7a0",
   "metadata": {},
   "source": [
    "# Exercise 10: Calculate Angle Between Vectors\n",
    "- Write a function that takes two 1D NumPy arrays as input and returns the angle between them."
   ]
  },
  {
   "cell_type": "code",
   "execution_count": 11,
   "id": "1386ca6c",
   "metadata": {},
   "outputs": [
    {
     "name": "stdout",
     "output_type": "stream",
     "text": [
      "The angle between two vectors is\n",
      "0.9746318461970762\n"
     ]
    }
   ],
   "source": [
    "def angle(array1,array2):# declaring the function angle()\n",
    "    dot_product=np.dot(array1,array2) # finding the dot_product\n",
    "    magnitude=np.linalg.norm(array1,ord=2)*np.linalg.norm(array2,ord=2) #finding the magnitude using L2 norm\n",
    "    cosine_angle=dot_product/magnitude #finding angle using cosine=dot_product/magnitude\n",
    "    return cosine_angle\n",
    "\n",
    "array1=np.array([1,2,3]) #declaring array1\n",
    "array2=np.array([4,5,6]) #declaring array2\n",
    "print(\"The angle between two vectors is\")\n",
    "print(angle(array1,array2))\n",
    "\n",
    "\n"
   ]
  },
  {
   "cell_type": "code",
   "execution_count": null,
   "id": "c927e643",
   "metadata": {},
   "outputs": [],
   "source": []
  }
 ],
 "metadata": {
  "kernelspec": {
   "display_name": "Python 3 (ipykernel)",
   "language": "python",
   "name": "python3"
  },
  "language_info": {
   "codemirror_mode": {
    "name": "ipython",
    "version": 3
   },
   "file_extension": ".py",
   "mimetype": "text/x-python",
   "name": "python",
   "nbconvert_exporter": "python",
   "pygments_lexer": "ipython3",
   "version": "3.11.3"
  }
 },
 "nbformat": 4,
 "nbformat_minor": 5
}
