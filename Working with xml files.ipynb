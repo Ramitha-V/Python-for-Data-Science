{
 "cells": [
  {
   "cell_type": "markdown",
   "id": "1a512e9c",
   "metadata": {},
   "source": [
    "## Exp-4: Working with Files- .xml"
   ]
  },
  {
   "cell_type": "markdown",
   "id": "abef10e6",
   "metadata": {},
   "source": [
    "# XML File"
   ]
  },
  {
   "cell_type": "markdown",
   "id": "dbc10543",
   "metadata": {},
   "source": [
    "- markup language\n",
    "- store and transport structured data\n",
    "- mostly used to store text file\n",
    "- tree like structure with a single root"
   ]
  },
  {
   "cell_type": "markdown",
   "id": "0e6eb252",
   "metadata": {},
   "source": [
    "## Loading the XML file from a file or string"
   ]
  },
  {
   "cell_type": "code",
   "execution_count": 1,
   "id": "d90f9e71",
   "metadata": {},
   "outputs": [
    {
     "data": {
      "text/plain": [
       "<xml.etree.ElementTree.ElementTree at 0x279efa09590>"
      ]
     },
     "execution_count": 1,
     "metadata": {},
     "output_type": "execute_result"
    }
   ],
   "source": [
    "import xml.etree.ElementTree as ET\n",
    "tree=ET.parse('D:\\SEM 3\\Python for Data Science\\data.xml') # import content of XML file using ET.parse\n",
    "tree"
   ]
  },
  {
   "cell_type": "code",
   "execution_count": 2,
   "id": "e4f2c0f5",
   "metadata": {},
   "outputs": [
    {
     "name": "stdout",
     "output_type": "stream",
     "text": [
      "\n",
      "<bookstore>\n",
      "\t<book>\n",
      "\t\t<title>Python Programming</title>\n",
      "\t\t<author>John Doe</author>\n",
      "\t\t<price>29.99</price>\n",
      "\t</book>\n",
      "\t<book>\n",
      "\t\t<title>Web Development</title>\n",
      "\t\t<author>Jane Smith</author>\n",
      "\t\t<price>24.95</price>\n",
      "\t</book>\n",
      "</bookstore> \n"
     ]
    }
   ],
   "source": [
    "with open('D:\\SEM 3\\Python for Data Science\\data.xml','r') as file: #opened in read mode\n",
    "    xml_content=file.read() # every element of XML file has tree like structure\n",
    "    print(xml_content)\n",
    "    "
   ]
  },
  {
   "cell_type": "markdown",
   "id": "78b4c577",
   "metadata": {},
   "source": [
    "## Get the root element of the XML File"
   ]
  },
  {
   "cell_type": "code",
   "execution_count": 3,
   "id": "6d0f5c14",
   "metadata": {},
   "outputs": [
    {
     "data": {
      "text/plain": [
       "<Element 'bookstore' at 0x00000279EFA4CEA0>"
      ]
     },
     "execution_count": 3,
     "metadata": {},
     "output_type": "execute_result"
    }
   ],
   "source": [
    "root=tree.getroot() #each XML File has a unique keyword and also unique root\n",
    "root"
   ]
  },
  {
   "cell_type": "markdown",
   "id": "e60ba8c3",
   "metadata": {},
   "source": [
    "## Access data as required"
   ]
  },
  {
   "cell_type": "code",
   "execution_count": 7,
   "id": "559fea7d",
   "metadata": {},
   "outputs": [
    {
     "name": "stdout",
     "output_type": "stream",
     "text": [
      "Book Title: Python Programming\n",
      "Book Author: John Doe\n",
      "Book Price: 29.99\n",
      "Book Title: Web Development\n",
      "Book Author: Jane Smith\n",
      "Book Price: 24.95\n"
     ]
    }
   ],
   "source": [
    "for i in root.findall('book'): #findall tries to find all the elements named book and its attributes\n",
    "    book_title=i.find('title').text # keyword should match to the XML file\n",
    "    book_author=i.find('author').text \n",
    "    book_price=i.find('price').text\n",
    "    print(\"Book Title:\",book_title)\n",
    "    print(\"Book Author:\",book_author)\n",
    "    print(\"Book Price:\",book_price)\n",
    "    \n",
    "    \n",
    "    "
   ]
  },
  {
   "cell_type": "markdown",
   "id": "db781ae3",
   "metadata": {},
   "source": [
    "# Second XML File"
   ]
  },
  {
   "cell_type": "code",
   "execution_count": 8,
   "id": "14ec1ec7",
   "metadata": {},
   "outputs": [
    {
     "data": {
      "text/plain": [
       "<xml.etree.ElementTree.ElementTree at 0x279efa01590>"
      ]
     },
     "execution_count": 8,
     "metadata": {},
     "output_type": "execute_result"
    }
   ],
   "source": [
    "tree1=ET.parse('D:\\SEM 3\\Python for Data Science\\movies.xml')\n",
    "tree1"
   ]
  },
  {
   "cell_type": "code",
   "execution_count": 9,
   "id": "688aab1d",
   "metadata": {},
   "outputs": [
    {
     "name": "stdout",
     "output_type": "stream",
     "text": [
      "<netflix>\n",
      "\t<movie>\n",
      "\t\t<name>Oppenheimer</name>\n",
      "\t\t<budget>800 million USD</budget>\n",
      "\t\t<cast>\n",
      "\t\t\t<actor>Murphy</actor>\n",
      "\t\t\t<actor>Blunt</actor>\n",
      "\t\t\t<actor>Downey</actor>\n",
      "\t\t\t<actor>Damon</actor>\n",
      "\t\t</cast>\n",
      "\t\t<ReleaseDate>21July2023</ReleaseDate>\n",
      "\t</movie>\n",
      "\t<movie>\n",
      "\t\t<name>Dhoom2</name>\n",
      "\t\t<budget>80 million USD</budget>\n",
      "\t\t<cast>\n",
      "\t\t\t<actor>Uday</actor>\n",
      "\t\t\t<actor>Abhishek</actor>\n",
      "\t\t\t<actor>Hritik</actor>\n",
      "\t\t\t<actor>Majnu</actor>\n",
      "\t\t</cast>\n",
      "\t\t<ReleaseDate>24November2006</ReleaseDate>\n",
      "\t</movie>\n",
      "</netflix>\n"
     ]
    }
   ],
   "source": [
    "with open('D:\\SEM 3\\Python for Data Science\\movies.xml','r') as file: #opened in read mode\n",
    "    xml_content1=file.read() # every element of XML file has tree like structure\n",
    "    print(xml_content1)"
   ]
  },
  {
   "cell_type": "code",
   "execution_count": 11,
   "id": "ef3ca3e1",
   "metadata": {},
   "outputs": [
    {
     "data": {
      "text/plain": [
       "<Element 'netflix' at 0x00000279EFA4D2B0>"
      ]
     },
     "execution_count": 11,
     "metadata": {},
     "output_type": "execute_result"
    }
   ],
   "source": [
    "root1=tree1.getroot() #each XML File has a unique keyword and also unique root\n",
    "root1"
   ]
  },
  {
   "cell_type": "code",
   "execution_count": 23,
   "id": "0caf77ee",
   "metadata": {},
   "outputs": [
    {
     "name": "stdout",
     "output_type": "stream",
     "text": [
      "Movie name: Oppenheimer\n",
      "Movie Budget: 800 million USD\n",
      "Movie Release Date: 21July2023\n",
      "Murphy\n",
      "Blunt\n",
      "Downey\n",
      "Damon\n",
      "\n",
      "\n",
      "Movie name: Dhoom2\n",
      "Movie Budget: 80 million USD\n",
      "Movie Release Date: 24November2006\n",
      "Uday\n",
      "Abhishek\n",
      "Hritik\n",
      "Majnu\n",
      "\n",
      "\n"
     ]
    }
   ],
   "source": [
    "for i in root1.findall('movie'): #findall tries to find all the elements named book and its attributes\n",
    "    movie_name=i.find('name').text # keyword should match to the XML file\n",
    "    movie_budget=i.find('budget').text \n",
    "    movie_release_date=i.find('ReleaseDate').text\n",
    "    print(\"Movie name:\",movie_name)\n",
    "    print(\"Movie Budget:\",movie_budget)\n",
    "    print(\"Movie Release Date:\",movie_release_date)\n",
    "    for cast in i.findall('cast'):\n",
    "        for actor in cast.findall('actor'):\n",
    "            actor=actor.text\n",
    "            print(actor)\n",
    "    print(\"\\n\")"
   ]
  },
  {
   "cell_type": "code",
   "execution_count": null,
   "id": "c38786ce",
   "metadata": {},
   "outputs": [],
   "source": []
  }
 ],
 "metadata": {
  "kernelspec": {
   "display_name": "Python 3 (ipykernel)",
   "language": "python",
   "name": "python3"
  },
  "language_info": {
   "codemirror_mode": {
    "name": "ipython",
    "version": 3
   },
   "file_extension": ".py",
   "mimetype": "text/x-python",
   "name": "python",
   "nbconvert_exporter": "python",
   "pygments_lexer": "ipython3",
   "version": "3.11.3"
  }
 },
 "nbformat": 4,
 "nbformat_minor": 5
}
