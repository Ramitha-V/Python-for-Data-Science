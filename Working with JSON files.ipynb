{
 "cells": [
  {
   "cell_type": "markdown",
   "id": "df715566",
   "metadata": {},
   "source": [
    "### Exp-3: Working with JSON files"
   ]
  },
  {
   "cell_type": "markdown",
   "id": "d0a6acfd",
   "metadata": {},
   "source": [
    "- JSON: JavaScript Object Notation\n",
    "- interchange format that is easy for humans and machines\n",
    "- data serialization and communication\n",
    "- dictionary like structure"
   ]
  },
  {
   "cell_type": "markdown",
   "id": "1097cca5",
   "metadata": {},
   "source": [
    "## Creating json object"
   ]
  },
  {
   "cell_type": "code",
   "execution_count": 12,
   "id": "9ae59fac",
   "metadata": {},
   "outputs": [],
   "source": [
    "import json\n",
    "import numpy as np\n",
    "import pandas as pd"
   ]
  },
  {
   "cell_type": "code",
   "execution_count": 2,
   "id": "8aa810a8",
   "metadata": {},
   "outputs": [],
   "source": [
    "x=np.arange(0,10,1)\n",
    "x=x.tolist()"
   ]
  },
  {
   "cell_type": "code",
   "execution_count": 3,
   "id": "b2e4d3cb",
   "metadata": {},
   "outputs": [],
   "source": [
    "data = {\n",
    "    \"name\": \"Cristiano Ronaldo\",\n",
    "    \"age\": 38,\n",
    "    \"email\": \"xyz@abc.com\",\n",
    "    \"speed\":x,\n",
    "    \"is_GOAT\": True,\n",
    "    \"hobbies\": [\"Swimming\", \"Traveling\", \"Breaking Records\"],\n",
    "    \"address\": {\n",
    "        \"street\": \"123 Main St\",\n",
    "        \"city\": \"New York\",\n",
    "        \"zip_code\": \"10001\"\n",
    "    }\n",
    "}\n"
   ]
  },
  {
   "cell_type": "code",
   "execution_count": 4,
   "id": "cbd051f6",
   "metadata": {},
   "outputs": [
    {
     "data": {
      "text/plain": [
       "'{\\n \"name\": \"Cristiano Ronaldo\",\\n \"age\": 38,\\n \"email\": \"xyz@abc.com\",\\n \"speed\": [\\n  0,\\n  1,\\n  2,\\n  3,\\n  4,\\n  5,\\n  6,\\n  7,\\n  8,\\n  9\\n ],\\n \"is_GOAT\": true,\\n \"hobbies\": [\\n  \"Swimming\",\\n  \"Traveling\",\\n  \"Breaking Records\"\\n ],\\n \"address\": {\\n  \"street\": \"123 Main St\",\\n  \"city\": \"New York\",\\n  \"zip_code\": \"10001\"\\n }\\n}'"
      ]
     },
     "execution_count": 4,
     "metadata": {},
     "output_type": "execute_result"
    }
   ],
   "source": [
    "json_object = json.dumps(data,indent=1)\n",
    "json_object"
   ]
  },
  {
   "cell_type": "code",
   "execution_count": 5,
   "id": "b8bebc4a",
   "metadata": {},
   "outputs": [
    {
     "name": "stdout",
     "output_type": "stream",
     "text": [
      "{'fruit': 'Apple', 'size': 'Large', 'color': 'Red'}\n",
      "fruit Apple\n",
      "size Large\n",
      "color Red\n"
     ]
    }
   ],
   "source": [
    "f=open('D:\\SEM 3\\Python for Data Science\\example_1.json')\n",
    "example_1=json.load(f)\n",
    "print(example_1)\n",
    "\n",
    "for i in example_1:\n",
    "    print(i,example_1[i])"
   ]
  },
  {
   "cell_type": "code",
   "execution_count": 10,
   "id": "e89f4e38",
   "metadata": {},
   "outputs": [
    {
     "name": "stdout",
     "output_type": "stream",
     "text": [
      "Topic: sport\n",
      "Question: Which one is correct team name in NBA?\n",
      "Options: New York Bulls, Los Angeles Kings, Golden State Warriros, Huston Rocket\n",
      "Answer: Huston Rocket\n",
      "\n",
      "Topic: maths\n",
      "Question: 5 + 7 = ?\n",
      "Options: 10, 11, 12, 13\n",
      "Answer: 12\n",
      "\n",
      "Topic: maths\n",
      "Question: 12 - 8 = ?\n",
      "Options: 1, 2, 3, 4\n",
      "Answer: 4\n",
      "\n"
     ]
    }
   ],
   "source": [
    "with open('D:\\SEM 3\\Python for Data Science\\example_2.json', 'r') as file:\n",
    "    etp = json.load(file)\n",
    "\n",
    "questions = []\n",
    "\n",
    "for topic in etp[\"quiz\"].keys():\n",
    "    for question_num in etp[\"quiz\"][topic].keys():\n",
    "        question = etp[\"quiz\"][topic][question_num][\"question\"]\n",
    "        q_option = etp[\"quiz\"][topic][question_num][\"options\"]\n",
    "        answer = etp[\"quiz\"][topic][question_num][\"answer\"]\n",
    "        _question = {}\n",
    "        _question[\"topic\"] = topic\n",
    "        _question[\"question\"] = question\n",
    "        _question[\"options\"] = \", \".join(list(q_option))\n",
    "        _question[\"answer\"] = answer\n",
    "        questions.append(_question)\n",
    "\n",
    "# Print the extracted questions and answers\n",
    "for question in questions:\n",
    "    print(f\"Topic: {question['topic']}\")\n",
    "    print(f\"Question: {question['question']}\")\n",
    "    print(f\"Options: {question['options']}\")\n",
    "    print(f\"Answer: {question['answer']}\\n\")"
   ]
  },
  {
   "cell_type": "code",
   "execution_count": 13,
   "id": "d9fad474",
   "metadata": {},
   "outputs": [
    {
     "data": {
      "text/html": [
       "<div>\n",
       "<style scoped>\n",
       "    .dataframe tbody tr th:only-of-type {\n",
       "        vertical-align: middle;\n",
       "    }\n",
       "\n",
       "    .dataframe tbody tr th {\n",
       "        vertical-align: top;\n",
       "    }\n",
       "\n",
       "    .dataframe thead th {\n",
       "        text-align: right;\n",
       "    }\n",
       "</style>\n",
       "<table border=\"1\" class=\"dataframe\">\n",
       "  <thead>\n",
       "    <tr style=\"text-align: right;\">\n",
       "      <th></th>\n",
       "      <th>topic</th>\n",
       "      <th>question</th>\n",
       "      <th>options</th>\n",
       "      <th>answer</th>\n",
       "    </tr>\n",
       "  </thead>\n",
       "  <tbody>\n",
       "    <tr>\n",
       "      <th>0</th>\n",
       "      <td>sport</td>\n",
       "      <td>Which one is correct team name in NBA?</td>\n",
       "      <td>New York Bulls, Los Angeles Kings, Golden Stat...</td>\n",
       "      <td>Huston Rocket</td>\n",
       "    </tr>\n",
       "    <tr>\n",
       "      <th>1</th>\n",
       "      <td>maths</td>\n",
       "      <td>5 + 7 = ?</td>\n",
       "      <td>10, 11, 12, 13</td>\n",
       "      <td>12</td>\n",
       "    </tr>\n",
       "    <tr>\n",
       "      <th>2</th>\n",
       "      <td>maths</td>\n",
       "      <td>12 - 8 = ?</td>\n",
       "      <td>1, 2, 3, 4</td>\n",
       "      <td>4</td>\n",
       "    </tr>\n",
       "  </tbody>\n",
       "</table>\n",
       "</div>"
      ],
      "text/plain": [
       "   topic                                question  \\\n",
       "0  sport  Which one is correct team name in NBA?   \n",
       "1  maths                               5 + 7 = ?   \n",
       "2  maths                              12 - 8 = ?   \n",
       "\n",
       "                                             options         answer  \n",
       "0  New York Bulls, Los Angeles Kings, Golden Stat...  Huston Rocket  \n",
       "1                                     10, 11, 12, 13             12  \n",
       "2                                         1, 2, 3, 4              4  "
      ]
     },
     "execution_count": 13,
     "metadata": {},
     "output_type": "execute_result"
    }
   ],
   "source": [
    "df = pd.DataFrame().from_records(questions)\n",
    "df"
   ]
  },
  {
   "cell_type": "code",
   "execution_count": null,
   "id": "e71a85c2",
   "metadata": {},
   "outputs": [],
   "source": []
  }
 ],
 "metadata": {
  "kernelspec": {
   "display_name": "Python 3 (ipykernel)",
   "language": "python",
   "name": "python3"
  },
  "language_info": {
   "codemirror_mode": {
    "name": "ipython",
    "version": 3
   },
   "file_extension": ".py",
   "mimetype": "text/x-python",
   "name": "python",
   "nbconvert_exporter": "python",
   "pygments_lexer": "ipython3",
   "version": "3.11.3"
  }
 },
 "nbformat": 4,
 "nbformat_minor": 5
}
