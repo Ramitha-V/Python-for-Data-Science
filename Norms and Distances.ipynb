{
 "cells": [
  {
   "cell_type": "markdown",
   "id": "32ce4398",
   "metadata": {},
   "source": [
    "### Exp-2 Linear Algebra- Norms &amp; Distances for Classification-based algorithms"
   ]
  },
  {
   "cell_type": "code",
   "execution_count": 1,
   "id": "9bea9bbf",
   "metadata": {},
   "outputs": [],
   "source": [
    "# In classification we dont find the real number rather we find the sign of the real number\n",
    "\n",
    "#L1 norm: sum of absolute values of the elements in a vector\n",
    "#||x||1=|x1|+|x2|+|x3|+...|xn|\n",
    "#L1 norm: Manhattan distance"
   ]
  },
  {
   "cell_type": "code",
   "execution_count": 2,
   "id": "13fd872d",
   "metadata": {},
   "outputs": [],
   "source": [
    "#L2 norm(Euclidean distance)\n",
    "#Distance formula: distance between two points or distance between a point and origin\n"
   ]
  },
  {
   "cell_type": "markdown",
   "id": "6d561734",
   "metadata": {},
   "source": [
    "# L1 and L2 using numpy"
   ]
  },
  {
   "cell_type": "code",
   "execution_count": 3,
   "id": "609fd9f5",
   "metadata": {},
   "outputs": [],
   "source": [
    "import numpy as np"
   ]
  },
  {
   "cell_type": "code",
   "execution_count": 6,
   "id": "f93832d1",
   "metadata": {},
   "outputs": [
    {
     "name": "stdout",
     "output_type": "stream",
     "text": [
      "euclidean_norm 3.7416573867739413\n"
     ]
    }
   ],
   "source": [
    "#Compute Euclidean norm of vector\n",
    "\n",
    "a=np.array([1,2,3])\n",
    "euclidean_norm=np.linalg.norm(a)\n",
    "print(\"euclidean_norm\",euclidean_norm)"
   ]
  },
  {
   "cell_type": "code",
   "execution_count": 8,
   "id": "fffcfaec",
   "metadata": {},
   "outputs": [
    {
     "name": "stdout",
     "output_type": "stream",
     "text": [
      "L1 norm 6.0\n"
     ]
    }
   ],
   "source": [
    "#Compute the L1 norm of a vector\n",
    "l1_norm=np.linalg.norm(a,ord=1)\n",
    "print(\"L1 norm\",l1_norm)\n"
   ]
  },
  {
   "cell_type": "code",
   "execution_count": 15,
   "id": "f7acda64",
   "metadata": {},
   "outputs": [
    {
     "name": "stdout",
     "output_type": "stream",
     "text": [
      "Euclidean Distance 3.7416573867739413\n"
     ]
    }
   ],
   "source": [
    "#Compute Euclidean norm of a vector\n",
    "x=np.array([1,2,3])\n",
    "y=np.array([10,11,12])\n",
    "\n",
    "euclideann_norm=np.linalg.norm(x-y)\n",
    "print(\"Euclidean Distance\",euclidean_norm)"
   ]
  },
  {
   "cell_type": "code",
   "execution_count": 9,
   "id": "1bcb4d59",
   "metadata": {},
   "outputs": [
    {
     "name": "stdout",
     "output_type": "stream",
     "text": [
      "L2 Norm: 5.477225575051661\n"
     ]
    }
   ],
   "source": [
    "# COmpute the L2 norm of a matrix\n",
    "\n",
    "matrix=np.array([[1,2],[3,4]]) #add the square of numbers and their square root\n",
    "l2_norm=np.linalg.norm(matrix)\n",
    "print(\"L2 Norm:\",l2_norm)"
   ]
  },
  {
   "cell_type": "markdown",
   "id": "88d8a50a",
   "metadata": {},
   "source": [
    "# L1 and L2 using scipy"
   ]
  },
  {
   "cell_type": "code",
   "execution_count": 16,
   "id": "bc1860d6",
   "metadata": {},
   "outputs": [],
   "source": [
    "import scipy"
   ]
  },
  {
   "cell_type": "code",
   "execution_count": 17,
   "id": "04a7b2e4",
   "metadata": {},
   "outputs": [],
   "source": [
    "from scipy.spatial import distance"
   ]
  },
  {
   "cell_type": "code",
   "execution_count": 18,
   "id": "08cf7902",
   "metadata": {},
   "outputs": [
    {
     "name": "stdout",
     "output_type": "stream",
     "text": [
      " Euclidean Distance 5.196152422706632\n"
     ]
    }
   ],
   "source": [
    "# Euclidean Distance between two points\n",
    "\n",
    "point1=np.array([1,2,3])\n",
    "point2=np.array([4,5,6])\n",
    "euclidean_distance=distance.euclidean(point1,point2)\n",
    "print(\" Euclidean Distance\",euclidean_distance)"
   ]
  },
  {
   "cell_type": "code",
   "execution_count": 19,
   "id": "c3ac43d8",
   "metadata": {},
   "outputs": [
    {
     "name": "stdout",
     "output_type": "stream",
     "text": [
      "Manhattan Distance 9\n"
     ]
    }
   ],
   "source": [
    "# Manhattan distance between two points\n",
    "\n",
    "manhattan_distance=distance.cityblock(point1,point2)\n",
    "print(\"Manhattan Distance\",manhattan_distance)"
   ]
  },
  {
   "cell_type": "markdown",
   "id": "10778561",
   "metadata": {},
   "source": [
    "# Cosine Similarity"
   ]
  },
  {
   "cell_type": "code",
   "execution_count": 20,
   "id": "cfaa015d",
   "metadata": {},
   "outputs": [],
   "source": [
    "# Compute the cosine distance between two vectors\n",
    "# measure of similarity between two non-zero vectors in a vector space\n",
    "# calculates the cosine of angle which ranges between [-1,1] : the more the similar the vectors are the closer the value is closer to 1(angle between them is 0)\n",
    "\n",
    "#used in recommendation system and in e-commerce portals\n",
    "\n",
    "#Word to vector: converts categorical variables to vector"
   ]
  },
  {
   "cell_type": "code",
   "execution_count": 22,
   "id": "11d67430",
   "metadata": {},
   "outputs": [
    {
     "name": "stdout",
     "output_type": "stream",
     "text": [
      "The cosine similarity is 0.5980302936376359\n",
      "The cosine distance is 0.40196970636236395\n"
     ]
    }
   ],
   "source": [
    "# Define the vectors\n",
    "vector1=np.array([0.8,0.6,0.3,0.1])\n",
    "vector2=np.array([0.7,0.3,0.7,-0.9])\n",
    "\n",
    "#Compute the dot product of the vectors\n",
    "dot_product=np.dot(vector1,vector2)\n",
    "\n",
    "#Compute the magnitude of the vectors\n",
    "magnitude1=np.linalg.norm(vector1)\n",
    "magnitude2=np.linalg.norm(vector2)\n",
    "\n",
    "cosine_similarity=dot_product/(magnitude1*magnitude2)\n",
    "print(\"The cosine similarity is\",cosine_similarity)\n",
    "\n",
    "#Cosine distance=1-cosine_similarity\n",
    "cosine_distance=distance.cosine(vector1,vector2)\n",
    "\n",
    "print(\"The cosine distance is\",cosine_distance)"
   ]
  },
  {
   "cell_type": "code",
   "execution_count": null,
   "id": "0b21a016",
   "metadata": {},
   "outputs": [],
   "source": []
  }
 ],
 "metadata": {
  "kernelspec": {
   "display_name": "Python 3 (ipykernel)",
   "language": "python",
   "name": "python3"
  },
  "language_info": {
   "codemirror_mode": {
    "name": "ipython",
    "version": 3
   },
   "file_extension": ".py",
   "mimetype": "text/x-python",
   "name": "python",
   "nbconvert_exporter": "python",
   "pygments_lexer": "ipython3",
   "version": "3.11.3"
  }
 },
 "nbformat": 4,
 "nbformat_minor": 5
}
