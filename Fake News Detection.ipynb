{
 "cells": [
  {
   "cell_type": "markdown",
   "id": "89203731",
   "metadata": {},
   "source": [
    "### Exp-14: Fake News Detection"
   ]
  },
  {
   "cell_type": "code",
   "execution_count": 1,
   "id": "f5345e03",
   "metadata": {},
   "outputs": [],
   "source": [
    "# Importing Libraries: data loading and EDA\n",
    "import json\n",
    "import numpy as np\n",
    "import pandas as pd\n",
    "import matplotlib.pyplot as plt\n",
    "import seaborn as sns\n",
    "%matplotlib inline\n",
    "\n",
    "#Ignoring warnings\n",
    "import warnings\n",
    "warnings.filterwarnings('ignore')\n",
    "\n",
    "# Importing libraries for text preprocessing\n",
    "import re,spacy,nltk,string\n",
    "from sklearn.feature_extraction.text import CountVectorizer, TfidfVectorizer, TfidfTransformer\n",
    "from sklearn.decomposition import NMF\n",
    "from nltk.stem import WordNetLemmatizer\n",
    "from textblob import TextBlob\n",
    "from wordcloud import WordCloud, STOPWORDS"
   ]
  },
  {
   "cell_type": "code",
   "execution_count": 2,
   "id": "b2e2e29d",
   "metadata": {},
   "outputs": [],
   "source": [
    "df = pd.read_csv(\"D:\\SEM 3\\PDS Journal\\\\FA-KES-Dataset.csv\", encoding='iso-8859-1')"
   ]
  },
  {
   "cell_type": "markdown",
   "id": "f676ae9c",
   "metadata": {},
   "source": [
    "#### Preprocessing"
   ]
  },
  {
   "cell_type": "code",
   "execution_count": 3,
   "id": "987207e8",
   "metadata": {},
   "outputs": [
    {
     "data": {
      "text/html": [
       "<div>\n",
       "<style scoped>\n",
       "    .dataframe tbody tr th:only-of-type {\n",
       "        vertical-align: middle;\n",
       "    }\n",
       "\n",
       "    .dataframe tbody tr th {\n",
       "        vertical-align: top;\n",
       "    }\n",
       "\n",
       "    .dataframe thead th {\n",
       "        text-align: right;\n",
       "    }\n",
       "</style>\n",
       "<table border=\"1\" class=\"dataframe\">\n",
       "  <thead>\n",
       "    <tr style=\"text-align: right;\">\n",
       "      <th></th>\n",
       "      <th>unit_id</th>\n",
       "      <th>article_title</th>\n",
       "      <th>article_content</th>\n",
       "      <th>source</th>\n",
       "      <th>date</th>\n",
       "      <th>location</th>\n",
       "      <th>labels</th>\n",
       "      <th>Unnamed: 7</th>\n",
       "      <th>Unnamed: 8</th>\n",
       "      <th>Unnamed: 9</th>\n",
       "      <th>Unnamed: 10</th>\n",
       "    </tr>\n",
       "  </thead>\n",
       "  <tbody>\n",
       "    <tr>\n",
       "      <th>0</th>\n",
       "      <td>1914947530</td>\n",
       "      <td>Syria attack symptoms consistent with nerve ag...</td>\n",
       "      <td>Wed 05 Apr 2017 Syria attack symptoms consiste...</td>\n",
       "      <td>nna</td>\n",
       "      <td>04-05-2017</td>\n",
       "      <td>idlib</td>\n",
       "      <td>0</td>\n",
       "      <td>NaN</td>\n",
       "      <td>NaN</td>\n",
       "      <td>NaN</td>\n",
       "      <td>NaN</td>\n",
       "    </tr>\n",
       "    <tr>\n",
       "      <th>1</th>\n",
       "      <td>1914947532</td>\n",
       "      <td>Homs governor says U.S. attack caused deaths b...</td>\n",
       "      <td>Fri 07 Apr 2017 at 0914 Homs governor says U.S...</td>\n",
       "      <td>nna</td>\n",
       "      <td>04-07-2017</td>\n",
       "      <td>homs</td>\n",
       "      <td>0</td>\n",
       "      <td>NaN</td>\n",
       "      <td>NaN</td>\n",
       "      <td>NaN</td>\n",
       "      <td>NaN</td>\n",
       "    </tr>\n",
       "    <tr>\n",
       "      <th>2</th>\n",
       "      <td>1914947533</td>\n",
       "      <td>Death toll from Aleppo bomb attack at least 112</td>\n",
       "      <td>Sun 16 Apr 2017 Death toll from Aleppo bomb at...</td>\n",
       "      <td>nna</td>\n",
       "      <td>4/16/2017</td>\n",
       "      <td>aleppo</td>\n",
       "      <td>0</td>\n",
       "      <td>NaN</td>\n",
       "      <td>NaN</td>\n",
       "      <td>NaN</td>\n",
       "      <td>NaN</td>\n",
       "    </tr>\n",
       "    <tr>\n",
       "      <th>3</th>\n",
       "      <td>1914947534</td>\n",
       "      <td>Aleppo bomb blast kills six Syrian state TV</td>\n",
       "      <td>Wed 19 Apr 2017 Aleppo bomb blast kills six Sy...</td>\n",
       "      <td>nna</td>\n",
       "      <td>4/19/2017</td>\n",
       "      <td>aleppo</td>\n",
       "      <td>0</td>\n",
       "      <td>NaN</td>\n",
       "      <td>NaN</td>\n",
       "      <td>NaN</td>\n",
       "      <td>NaN</td>\n",
       "    </tr>\n",
       "    <tr>\n",
       "      <th>4</th>\n",
       "      <td>1914947535</td>\n",
       "      <td>29 Syria Rebels Dead in Fighting for Key Alepp...</td>\n",
       "      <td>Sun 10 Jul 2016 29 Syria Rebels Dead in Fighti...</td>\n",
       "      <td>nna</td>\n",
       "      <td>07-10-2016</td>\n",
       "      <td>aleppo</td>\n",
       "      <td>0</td>\n",
       "      <td>NaN</td>\n",
       "      <td>NaN</td>\n",
       "      <td>NaN</td>\n",
       "      <td>NaN</td>\n",
       "    </tr>\n",
       "  </tbody>\n",
       "</table>\n",
       "</div>"
      ],
      "text/plain": [
       "      unit_id                                      article_title  \\\n",
       "0  1914947530  Syria attack symptoms consistent with nerve ag...   \n",
       "1  1914947532  Homs governor says U.S. attack caused deaths b...   \n",
       "2  1914947533    Death toll from Aleppo bomb attack at least 112   \n",
       "3  1914947534        Aleppo bomb blast kills six Syrian state TV   \n",
       "4  1914947535  29 Syria Rebels Dead in Fighting for Key Alepp...   \n",
       "\n",
       "                                     article_content source        date  \\\n",
       "0  Wed 05 Apr 2017 Syria attack symptoms consiste...    nna  04-05-2017   \n",
       "1  Fri 07 Apr 2017 at 0914 Homs governor says U.S...    nna  04-07-2017   \n",
       "2  Sun 16 Apr 2017 Death toll from Aleppo bomb at...    nna   4/16/2017   \n",
       "3  Wed 19 Apr 2017 Aleppo bomb blast kills six Sy...    nna   4/19/2017   \n",
       "4  Sun 10 Jul 2016 29 Syria Rebels Dead in Fighti...    nna  07-10-2016   \n",
       "\n",
       "  location  labels  Unnamed: 7  Unnamed: 8  Unnamed: 9 Unnamed: 10  \n",
       "0    idlib       0         NaN         NaN         NaN         NaN  \n",
       "1     homs       0         NaN         NaN         NaN         NaN  \n",
       "2   aleppo       0         NaN         NaN         NaN         NaN  \n",
       "3   aleppo       0         NaN         NaN         NaN         NaN  \n",
       "4   aleppo       0         NaN         NaN         NaN         NaN  "
      ]
     },
     "execution_count": 3,
     "metadata": {},
     "output_type": "execute_result"
    }
   ],
   "source": [
    "df.head()"
   ]
  },
  {
   "cell_type": "code",
   "execution_count": 4,
   "id": "5bc9caa3",
   "metadata": {},
   "outputs": [
    {
     "data": {
      "text/plain": [
       "Index(['unit_id', 'article_title', 'article_content', 'source', 'date',\n",
       "       'location', 'labels', 'Unnamed: 7', 'Unnamed: 8', 'Unnamed: 9',\n",
       "       'Unnamed: 10'],\n",
       "      dtype='object')"
      ]
     },
     "execution_count": 4,
     "metadata": {},
     "output_type": "execute_result"
    }
   ],
   "source": [
    "df.columns"
   ]
  },
  {
   "cell_type": "code",
   "execution_count": 5,
   "id": "746fdc26",
   "metadata": {},
   "outputs": [],
   "source": [
    "df.drop(columns=['Unnamed: 7', 'Unnamed: 8', 'Unnamed: 9',\n",
    "       'Unnamed: 10'],axis=1,inplace=True)"
   ]
  },
  {
   "cell_type": "code",
   "execution_count": 6,
   "id": "cd9fe17f",
   "metadata": {},
   "outputs": [
    {
     "data": {
      "text/html": [
       "<div>\n",
       "<style scoped>\n",
       "    .dataframe tbody tr th:only-of-type {\n",
       "        vertical-align: middle;\n",
       "    }\n",
       "\n",
       "    .dataframe tbody tr th {\n",
       "        vertical-align: top;\n",
       "    }\n",
       "\n",
       "    .dataframe thead th {\n",
       "        text-align: right;\n",
       "    }\n",
       "</style>\n",
       "<table border=\"1\" class=\"dataframe\">\n",
       "  <thead>\n",
       "    <tr style=\"text-align: right;\">\n",
       "      <th></th>\n",
       "      <th>unit_id</th>\n",
       "      <th>article_title</th>\n",
       "      <th>article_content</th>\n",
       "      <th>source</th>\n",
       "      <th>date</th>\n",
       "      <th>location</th>\n",
       "      <th>labels</th>\n",
       "    </tr>\n",
       "  </thead>\n",
       "  <tbody>\n",
       "    <tr>\n",
       "      <th>0</th>\n",
       "      <td>1914947530</td>\n",
       "      <td>Syria attack symptoms consistent with nerve ag...</td>\n",
       "      <td>Wed 05 Apr 2017 Syria attack symptoms consiste...</td>\n",
       "      <td>nna</td>\n",
       "      <td>04-05-2017</td>\n",
       "      <td>idlib</td>\n",
       "      <td>0</td>\n",
       "    </tr>\n",
       "    <tr>\n",
       "      <th>1</th>\n",
       "      <td>1914947532</td>\n",
       "      <td>Homs governor says U.S. attack caused deaths b...</td>\n",
       "      <td>Fri 07 Apr 2017 at 0914 Homs governor says U.S...</td>\n",
       "      <td>nna</td>\n",
       "      <td>04-07-2017</td>\n",
       "      <td>homs</td>\n",
       "      <td>0</td>\n",
       "    </tr>\n",
       "    <tr>\n",
       "      <th>2</th>\n",
       "      <td>1914947533</td>\n",
       "      <td>Death toll from Aleppo bomb attack at least 112</td>\n",
       "      <td>Sun 16 Apr 2017 Death toll from Aleppo bomb at...</td>\n",
       "      <td>nna</td>\n",
       "      <td>4/16/2017</td>\n",
       "      <td>aleppo</td>\n",
       "      <td>0</td>\n",
       "    </tr>\n",
       "    <tr>\n",
       "      <th>3</th>\n",
       "      <td>1914947534</td>\n",
       "      <td>Aleppo bomb blast kills six Syrian state TV</td>\n",
       "      <td>Wed 19 Apr 2017 Aleppo bomb blast kills six Sy...</td>\n",
       "      <td>nna</td>\n",
       "      <td>4/19/2017</td>\n",
       "      <td>aleppo</td>\n",
       "      <td>0</td>\n",
       "    </tr>\n",
       "    <tr>\n",
       "      <th>4</th>\n",
       "      <td>1914947535</td>\n",
       "      <td>29 Syria Rebels Dead in Fighting for Key Alepp...</td>\n",
       "      <td>Sun 10 Jul 2016 29 Syria Rebels Dead in Fighti...</td>\n",
       "      <td>nna</td>\n",
       "      <td>07-10-2016</td>\n",
       "      <td>aleppo</td>\n",
       "      <td>0</td>\n",
       "    </tr>\n",
       "    <tr>\n",
       "      <th>...</th>\n",
       "      <td>...</td>\n",
       "      <td>...</td>\n",
       "      <td>...</td>\n",
       "      <td>...</td>\n",
       "      <td>...</td>\n",
       "      <td>...</td>\n",
       "      <td>...</td>\n",
       "    </tr>\n",
       "    <tr>\n",
       "      <th>799</th>\n",
       "      <td>1965511221</td>\n",
       "      <td>Turkish Bombardment Kills 20 Civilians in Syria</td>\n",
       "      <td>28-08-2016 Turkish Bombardment Kills 20 Civili...</td>\n",
       "      <td>manar</td>\n",
       "      <td>8/28/2016</td>\n",
       "      <td>aleppo</td>\n",
       "      <td>1</td>\n",
       "    </tr>\n",
       "    <tr>\n",
       "      <th>800</th>\n",
       "      <td>1965511222</td>\n",
       "      <td>Martyrs as Terrorists Shell Aleppos Salah Eddin</td>\n",
       "      <td>17-08-2016 Martyrs as Terrorists Shell Aleppos...</td>\n",
       "      <td>manar</td>\n",
       "      <td>08-01-2016</td>\n",
       "      <td>aleppo</td>\n",
       "      <td>1</td>\n",
       "    </tr>\n",
       "    <tr>\n",
       "      <th>801</th>\n",
       "      <td>1965511224</td>\n",
       "      <td>Chemical Attack Kills Five Syrians in Aleppo SANA</td>\n",
       "      <td>03-08-2016 Chemical Attack Kills Five Syrians ...</td>\n",
       "      <td>manar</td>\n",
       "      <td>08-03-2016</td>\n",
       "      <td>aleppo</td>\n",
       "      <td>0</td>\n",
       "    </tr>\n",
       "    <tr>\n",
       "      <th>802</th>\n",
       "      <td>1965511226</td>\n",
       "      <td>5 Killed as Russian Military Chopper Shot down...</td>\n",
       "      <td>01-08-2016 5 Killed as Russian Military Choppe...</td>\n",
       "      <td>manar</td>\n",
       "      <td>08-01-2016</td>\n",
       "      <td>idlib</td>\n",
       "      <td>1</td>\n",
       "    </tr>\n",
       "    <tr>\n",
       "      <th>803</th>\n",
       "      <td>1965511231</td>\n",
       "      <td>Syrian Army Kills 48 ISIL Terrorists in Deir E...</td>\n",
       "      <td>April 6 2017 Syrian Army Kills 48 ISIL Terrori...</td>\n",
       "      <td>manar</td>\n",
       "      <td>04-04-2017</td>\n",
       "      <td>deir ezzor</td>\n",
       "      <td>1</td>\n",
       "    </tr>\n",
       "  </tbody>\n",
       "</table>\n",
       "<p>804 rows × 7 columns</p>\n",
       "</div>"
      ],
      "text/plain": [
       "        unit_id                                      article_title  \\\n",
       "0    1914947530  Syria attack symptoms consistent with nerve ag...   \n",
       "1    1914947532  Homs governor says U.S. attack caused deaths b...   \n",
       "2    1914947533    Death toll from Aleppo bomb attack at least 112   \n",
       "3    1914947534        Aleppo bomb blast kills six Syrian state TV   \n",
       "4    1914947535  29 Syria Rebels Dead in Fighting for Key Alepp...   \n",
       "..          ...                                                ...   \n",
       "799  1965511221    Turkish Bombardment Kills 20 Civilians in Syria   \n",
       "800  1965511222    Martyrs as Terrorists Shell Aleppos Salah Eddin   \n",
       "801  1965511224  Chemical Attack Kills Five Syrians in Aleppo SANA   \n",
       "802  1965511226  5 Killed as Russian Military Chopper Shot down...   \n",
       "803  1965511231  Syrian Army Kills 48 ISIL Terrorists in Deir E...   \n",
       "\n",
       "                                       article_content source        date  \\\n",
       "0    Wed 05 Apr 2017 Syria attack symptoms consiste...    nna  04-05-2017   \n",
       "1    Fri 07 Apr 2017 at 0914 Homs governor says U.S...    nna  04-07-2017   \n",
       "2    Sun 16 Apr 2017 Death toll from Aleppo bomb at...    nna   4/16/2017   \n",
       "3    Wed 19 Apr 2017 Aleppo bomb blast kills six Sy...    nna   4/19/2017   \n",
       "4    Sun 10 Jul 2016 29 Syria Rebels Dead in Fighti...    nna  07-10-2016   \n",
       "..                                                 ...    ...         ...   \n",
       "799  28-08-2016 Turkish Bombardment Kills 20 Civili...  manar   8/28/2016   \n",
       "800  17-08-2016 Martyrs as Terrorists Shell Aleppos...  manar  08-01-2016   \n",
       "801  03-08-2016 Chemical Attack Kills Five Syrians ...  manar  08-03-2016   \n",
       "802  01-08-2016 5 Killed as Russian Military Choppe...  manar  08-01-2016   \n",
       "803  April 6 2017 Syrian Army Kills 48 ISIL Terrori...  manar  04-04-2017   \n",
       "\n",
       "       location  labels  \n",
       "0         idlib       0  \n",
       "1          homs       0  \n",
       "2        aleppo       0  \n",
       "3        aleppo       0  \n",
       "4        aleppo       0  \n",
       "..          ...     ...  \n",
       "799      aleppo       1  \n",
       "800      aleppo       1  \n",
       "801      aleppo       0  \n",
       "802       idlib       1  \n",
       "803  deir ezzor       1  \n",
       "\n",
       "[804 rows x 7 columns]"
      ]
     },
     "execution_count": 6,
     "metadata": {},
     "output_type": "execute_result"
    }
   ],
   "source": [
    "df"
   ]
  },
  {
   "cell_type": "code",
   "execution_count": 7,
   "id": "0a47d462",
   "metadata": {},
   "outputs": [
    {
     "data": {
      "text/plain": [
       "1    426\n",
       "0    378\n",
       "Name: labels, dtype: int64"
      ]
     },
     "execution_count": 7,
     "metadata": {},
     "output_type": "execute_result"
    }
   ],
   "source": [
    "df['labels'].value_counts()"
   ]
  },
  {
   "cell_type": "code",
   "execution_count": 8,
   "id": "5048788a",
   "metadata": {},
   "outputs": [
    {
     "data": {
      "text/plain": [
       "0      Syria attack symptoms consistent with nerve ag...\n",
       "1      Homs governor says U.S. attack caused deaths b...\n",
       "2        Death toll from Aleppo bomb attack at least 112\n",
       "3            Aleppo bomb blast kills six Syrian state TV\n",
       "4      29 Syria Rebels Dead in Fighting for Key Alepp...\n",
       "                             ...                        \n",
       "799      Turkish Bombardment Kills 20 Civilians in Syria\n",
       "800      Martyrs as Terrorists Shell Aleppos Salah Eddin\n",
       "801    Chemical Attack Kills Five Syrians in Aleppo SANA\n",
       "802    5 Killed as Russian Military Chopper Shot down...\n",
       "803    Syrian Army Kills 48 ISIL Terrorists in Deir E...\n",
       "Name: article_title, Length: 804, dtype: object"
      ]
     },
     "execution_count": 8,
     "metadata": {},
     "output_type": "execute_result"
    }
   ],
   "source": [
    "df['article_title']"
   ]
  },
  {
   "cell_type": "code",
   "execution_count": 9,
   "id": "9c90df12",
   "metadata": {},
   "outputs": [
    {
     "data": {
      "text/plain": [
       "(804, 7)"
      ]
     },
     "execution_count": 9,
     "metadata": {},
     "output_type": "execute_result"
    }
   ],
   "source": [
    "df.shape"
   ]
  },
  {
   "cell_type": "code",
   "execution_count": 10,
   "id": "12244a9a",
   "metadata": {},
   "outputs": [
    {
     "name": "stdout",
     "output_type": "stream",
     "text": [
      "<class 'pandas.core.frame.DataFrame'>\n",
      "RangeIndex: 804 entries, 0 to 803\n",
      "Data columns (total 7 columns):\n",
      " #   Column           Non-Null Count  Dtype \n",
      "---  ------           --------------  ----- \n",
      " 0   unit_id          804 non-null    int64 \n",
      " 1   article_title    804 non-null    object\n",
      " 2   article_content  804 non-null    object\n",
      " 3   source           804 non-null    object\n",
      " 4   date             804 non-null    object\n",
      " 5   location         804 non-null    object\n",
      " 6   labels           804 non-null    int64 \n",
      "dtypes: int64(2), object(5)\n",
      "memory usage: 44.1+ KB\n"
     ]
    }
   ],
   "source": [
    "df.info()"
   ]
  },
  {
   "cell_type": "code",
   "execution_count": 11,
   "id": "1a398ad5",
   "metadata": {},
   "outputs": [
    {
     "data": {
      "text/plain": [
       "unit_id            0\n",
       "article_title      0\n",
       "article_content    0\n",
       "source             0\n",
       "date               0\n",
       "location           0\n",
       "labels             0\n",
       "dtype: int64"
      ]
     },
     "execution_count": 11,
     "metadata": {},
     "output_type": "execute_result"
    }
   ],
   "source": [
    "df.isna().sum()"
   ]
  },
  {
   "cell_type": "code",
   "execution_count": 12,
   "id": "8a22d5e4",
   "metadata": {},
   "outputs": [],
   "source": [
    "dict={\n",
    "    \"unit_id\":\"id\",\n",
    "    \"articl_title\":\"title\",\n",
    "    \"article_content\":\"content\"\n",
    "}"
   ]
  },
  {
   "cell_type": "code",
   "execution_count": 13,
   "id": "80a2a7ae",
   "metadata": {},
   "outputs": [
    {
     "data": {
      "text/html": [
       "<div>\n",
       "<style scoped>\n",
       "    .dataframe tbody tr th:only-of-type {\n",
       "        vertical-align: middle;\n",
       "    }\n",
       "\n",
       "    .dataframe tbody tr th {\n",
       "        vertical-align: top;\n",
       "    }\n",
       "\n",
       "    .dataframe thead th {\n",
       "        text-align: right;\n",
       "    }\n",
       "</style>\n",
       "<table border=\"1\" class=\"dataframe\">\n",
       "  <thead>\n",
       "    <tr style=\"text-align: right;\">\n",
       "      <th></th>\n",
       "      <th>id</th>\n",
       "      <th>article_title</th>\n",
       "      <th>content</th>\n",
       "      <th>source</th>\n",
       "      <th>date</th>\n",
       "      <th>location</th>\n",
       "      <th>labels</th>\n",
       "    </tr>\n",
       "  </thead>\n",
       "  <tbody>\n",
       "    <tr>\n",
       "      <th>0</th>\n",
       "      <td>1914947530</td>\n",
       "      <td>Syria attack symptoms consistent with nerve ag...</td>\n",
       "      <td>Wed 05 Apr 2017 Syria attack symptoms consiste...</td>\n",
       "      <td>nna</td>\n",
       "      <td>04-05-2017</td>\n",
       "      <td>idlib</td>\n",
       "      <td>0</td>\n",
       "    </tr>\n",
       "    <tr>\n",
       "      <th>1</th>\n",
       "      <td>1914947532</td>\n",
       "      <td>Homs governor says U.S. attack caused deaths b...</td>\n",
       "      <td>Fri 07 Apr 2017 at 0914 Homs governor says U.S...</td>\n",
       "      <td>nna</td>\n",
       "      <td>04-07-2017</td>\n",
       "      <td>homs</td>\n",
       "      <td>0</td>\n",
       "    </tr>\n",
       "    <tr>\n",
       "      <th>2</th>\n",
       "      <td>1914947533</td>\n",
       "      <td>Death toll from Aleppo bomb attack at least 112</td>\n",
       "      <td>Sun 16 Apr 2017 Death toll from Aleppo bomb at...</td>\n",
       "      <td>nna</td>\n",
       "      <td>4/16/2017</td>\n",
       "      <td>aleppo</td>\n",
       "      <td>0</td>\n",
       "    </tr>\n",
       "    <tr>\n",
       "      <th>3</th>\n",
       "      <td>1914947534</td>\n",
       "      <td>Aleppo bomb blast kills six Syrian state TV</td>\n",
       "      <td>Wed 19 Apr 2017 Aleppo bomb blast kills six Sy...</td>\n",
       "      <td>nna</td>\n",
       "      <td>4/19/2017</td>\n",
       "      <td>aleppo</td>\n",
       "      <td>0</td>\n",
       "    </tr>\n",
       "    <tr>\n",
       "      <th>4</th>\n",
       "      <td>1914947535</td>\n",
       "      <td>29 Syria Rebels Dead in Fighting for Key Alepp...</td>\n",
       "      <td>Sun 10 Jul 2016 29 Syria Rebels Dead in Fighti...</td>\n",
       "      <td>nna</td>\n",
       "      <td>07-10-2016</td>\n",
       "      <td>aleppo</td>\n",
       "      <td>0</td>\n",
       "    </tr>\n",
       "    <tr>\n",
       "      <th>...</th>\n",
       "      <td>...</td>\n",
       "      <td>...</td>\n",
       "      <td>...</td>\n",
       "      <td>...</td>\n",
       "      <td>...</td>\n",
       "      <td>...</td>\n",
       "      <td>...</td>\n",
       "    </tr>\n",
       "    <tr>\n",
       "      <th>799</th>\n",
       "      <td>1965511221</td>\n",
       "      <td>Turkish Bombardment Kills 20 Civilians in Syria</td>\n",
       "      <td>28-08-2016 Turkish Bombardment Kills 20 Civili...</td>\n",
       "      <td>manar</td>\n",
       "      <td>8/28/2016</td>\n",
       "      <td>aleppo</td>\n",
       "      <td>1</td>\n",
       "    </tr>\n",
       "    <tr>\n",
       "      <th>800</th>\n",
       "      <td>1965511222</td>\n",
       "      <td>Martyrs as Terrorists Shell Aleppos Salah Eddin</td>\n",
       "      <td>17-08-2016 Martyrs as Terrorists Shell Aleppos...</td>\n",
       "      <td>manar</td>\n",
       "      <td>08-01-2016</td>\n",
       "      <td>aleppo</td>\n",
       "      <td>1</td>\n",
       "    </tr>\n",
       "    <tr>\n",
       "      <th>801</th>\n",
       "      <td>1965511224</td>\n",
       "      <td>Chemical Attack Kills Five Syrians in Aleppo SANA</td>\n",
       "      <td>03-08-2016 Chemical Attack Kills Five Syrians ...</td>\n",
       "      <td>manar</td>\n",
       "      <td>08-03-2016</td>\n",
       "      <td>aleppo</td>\n",
       "      <td>0</td>\n",
       "    </tr>\n",
       "    <tr>\n",
       "      <th>802</th>\n",
       "      <td>1965511226</td>\n",
       "      <td>5 Killed as Russian Military Chopper Shot down...</td>\n",
       "      <td>01-08-2016 5 Killed as Russian Military Choppe...</td>\n",
       "      <td>manar</td>\n",
       "      <td>08-01-2016</td>\n",
       "      <td>idlib</td>\n",
       "      <td>1</td>\n",
       "    </tr>\n",
       "    <tr>\n",
       "      <th>803</th>\n",
       "      <td>1965511231</td>\n",
       "      <td>Syrian Army Kills 48 ISIL Terrorists in Deir E...</td>\n",
       "      <td>April 6 2017 Syrian Army Kills 48 ISIL Terrori...</td>\n",
       "      <td>manar</td>\n",
       "      <td>04-04-2017</td>\n",
       "      <td>deir ezzor</td>\n",
       "      <td>1</td>\n",
       "    </tr>\n",
       "  </tbody>\n",
       "</table>\n",
       "<p>804 rows × 7 columns</p>\n",
       "</div>"
      ],
      "text/plain": [
       "             id                                      article_title  \\\n",
       "0    1914947530  Syria attack symptoms consistent with nerve ag...   \n",
       "1    1914947532  Homs governor says U.S. attack caused deaths b...   \n",
       "2    1914947533    Death toll from Aleppo bomb attack at least 112   \n",
       "3    1914947534        Aleppo bomb blast kills six Syrian state TV   \n",
       "4    1914947535  29 Syria Rebels Dead in Fighting for Key Alepp...   \n",
       "..          ...                                                ...   \n",
       "799  1965511221    Turkish Bombardment Kills 20 Civilians in Syria   \n",
       "800  1965511222    Martyrs as Terrorists Shell Aleppos Salah Eddin   \n",
       "801  1965511224  Chemical Attack Kills Five Syrians in Aleppo SANA   \n",
       "802  1965511226  5 Killed as Russian Military Chopper Shot down...   \n",
       "803  1965511231  Syrian Army Kills 48 ISIL Terrorists in Deir E...   \n",
       "\n",
       "                                               content source        date  \\\n",
       "0    Wed 05 Apr 2017 Syria attack symptoms consiste...    nna  04-05-2017   \n",
       "1    Fri 07 Apr 2017 at 0914 Homs governor says U.S...    nna  04-07-2017   \n",
       "2    Sun 16 Apr 2017 Death toll from Aleppo bomb at...    nna   4/16/2017   \n",
       "3    Wed 19 Apr 2017 Aleppo bomb blast kills six Sy...    nna   4/19/2017   \n",
       "4    Sun 10 Jul 2016 29 Syria Rebels Dead in Fighti...    nna  07-10-2016   \n",
       "..                                                 ...    ...         ...   \n",
       "799  28-08-2016 Turkish Bombardment Kills 20 Civili...  manar   8/28/2016   \n",
       "800  17-08-2016 Martyrs as Terrorists Shell Aleppos...  manar  08-01-2016   \n",
       "801  03-08-2016 Chemical Attack Kills Five Syrians ...  manar  08-03-2016   \n",
       "802  01-08-2016 5 Killed as Russian Military Choppe...  manar  08-01-2016   \n",
       "803  April 6 2017 Syrian Army Kills 48 ISIL Terrori...  manar  04-04-2017   \n",
       "\n",
       "       location  labels  \n",
       "0         idlib       0  \n",
       "1          homs       0  \n",
       "2        aleppo       0  \n",
       "3        aleppo       0  \n",
       "4        aleppo       0  \n",
       "..          ...     ...  \n",
       "799      aleppo       1  \n",
       "800      aleppo       1  \n",
       "801      aleppo       0  \n",
       "802       idlib       1  \n",
       "803  deir ezzor       1  \n",
       "\n",
       "[804 rows x 7 columns]"
      ]
     },
     "execution_count": 13,
     "metadata": {},
     "output_type": "execute_result"
    }
   ],
   "source": [
    "df.rename(columns=dict)"
   ]
  },
  {
   "cell_type": "code",
   "execution_count": 14,
   "id": "f3ffeb13",
   "metadata": {},
   "outputs": [],
   "source": [
    "# Dropping missing values\n",
    "df.dropna(inplace=True)"
   ]
  },
  {
   "cell_type": "code",
   "execution_count": 15,
   "id": "52153e7f",
   "metadata": {},
   "outputs": [],
   "source": [
    "# Converting to lower case\n",
    "df['article_content'] = df['article_content'].str.lower()"
   ]
  },
  {
   "cell_type": "code",
   "execution_count": 16,
   "id": "50291332",
   "metadata": {},
   "outputs": [],
   "source": [
    "# Removing punctuation and special characters\n",
    "df['article_content'] = df['article_content'].apply(lambda x: re.sub(r'[^a-zA-Z0-9\\s]', '', x))"
   ]
  },
  {
   "cell_type": "code",
   "execution_count": 17,
   "id": "3d47fb73",
   "metadata": {},
   "outputs": [],
   "source": [
    "# Tokenizing\n",
    "nlp = spacy.load('en_core_web_sm')\n",
    "df['article_content'] = df['article_content'].apply(lambda x: [token.text for token in nlp(x)])"
   ]
  },
  {
   "cell_type": "code",
   "execution_count": 18,
   "id": "04d77b00",
   "metadata": {},
   "outputs": [
    {
     "name": "stdout",
     "output_type": "stream",
     "text": [
      "['Syria', 'attack', 'symptoms', 'consistent', 'with', 'nerve', 'agent']\n"
     ]
    }
   ],
   "source": [
    "sample_text = \"Syria attack symptoms consistent with nerve agent\"\n",
    "tokens = [token.text for token in nlp(sample_text)]\n",
    "print(tokens)"
   ]
  },
  {
   "cell_type": "code",
   "execution_count": 19,
   "id": "71ca7aad",
   "metadata": {},
   "outputs": [],
   "source": [
    "# Removing stopwords\n",
    "from nltk.corpus import stopwords\n",
    "\n",
    "stop_words = set(stopwords.words('english'))\n",
    "df['article_content'] = df['article_content'].apply(lambda x: [word for word in x if word not in stop_words])"
   ]
  },
  {
   "cell_type": "code",
   "execution_count": 20,
   "id": "8a5c97a0",
   "metadata": {},
   "outputs": [],
   "source": [
    "# Lemmitization\n",
    "nlp = spacy.load('en_core_web_sm')\n",
    "df['article_content'] = df['article_content'].apply(\n",
    "    lambda x: [token.lemma_ for token in nlp(' '.join(x))])\n"
   ]
  },
  {
   "cell_type": "code",
   "execution_count": 21,
   "id": "95b5ebcb",
   "metadata": {},
   "outputs": [
    {
     "name": "stdout",
     "output_type": "stream",
     "text": [
      "['Syria', 'attack', 'symptom', 'consistent', 'with', 'nerve', 'agent']\n"
     ]
    }
   ],
   "source": [
    "sample_text = \"Syria attack symptoms consistent with nerve agent\"\n",
    "lemmatized_text = [token.lemma_ for token in nlp(sample_text)]\n",
    "print(lemmatized_text)"
   ]
  },
  {
   "cell_type": "markdown",
   "id": "44212f71",
   "metadata": {},
   "source": [
    "#### Feature Selection"
   ]
  },
  {
   "cell_type": "code",
   "execution_count": 22,
   "id": "d7805618",
   "metadata": {},
   "outputs": [],
   "source": [
    "# Feature selection\n",
    "X=df['article_content']\n",
    "y=df['labels']"
   ]
  },
  {
   "cell_type": "code",
   "execution_count": 23,
   "id": "c7ab9d08",
   "metadata": {},
   "outputs": [],
   "source": [
    "from sklearn.model_selection import train_test_split\n",
    "X_train, X_test, y_train, y_test = train_test_split(X, y, test_size=0.2, random_state=42)"
   ]
  },
  {
   "cell_type": "code",
   "execution_count": 24,
   "id": "5ce413c9",
   "metadata": {},
   "outputs": [],
   "source": [
    "X_train_processed = [' '.join(tokens) for tokens in X_train]\n",
    "X_test_processed = [' '.join(tokens) for tokens in X_test]\n",
    "\n",
    "tfidf_vectorizer = TfidfVectorizer()\n",
    "X_train_tfidf = tfidf_vectorizer.fit_transform(X_train_processed)\n",
    "X_test_tfidf = tfidf_vectorizer.transform(X_test_processed)"
   ]
  },
  {
   "cell_type": "markdown",
   "id": "58686728",
   "metadata": {},
   "source": [
    "#### Models"
   ]
  },
  {
   "cell_type": "code",
   "execution_count": 25,
   "id": "a2e27574",
   "metadata": {},
   "outputs": [],
   "source": [
    "def model_evaluation(y_test, y_pred, model_name, y_scores=None):\n",
    "    from sklearn.metrics import classification_report, accuracy_score, confusion_matrix, f1_score, jaccard_score, precision_score, recall_score, roc_curve, auc\n",
    "    import matplotlib.pyplot as plt\n",
    "    \n",
    "    # Classification Report\n",
    "    print(\"Classification report for\", model_name, \"\\n\")\n",
    "    print(classification_report(y_test, y_pred))\n",
    "\n",
    "    # Accuracy\n",
    "    accuracy = round(accuracy_score(y_test, y_pred), 2)\n",
    "    print(\"Accuracy:\", accuracy)\n",
    "    \n",
    "    # F1-score\n",
    "    f1 = round(f1_score(y_test, y_pred), 2)\n",
    "    print(\"F1-score:\", f1)\n",
    "\n",
    "    # Jaccard's Index\n",
    "    jaccard = round(jaccard_score(y_test, y_pred), 2)\n",
    "    print(\"Jaccard's Index:\", jaccard)\n",
    "\n",
    "    # Precision & Recall\n",
    "    precision = round(precision_score(y_test, y_pred), 2)\n",
    "    recall = round(recall_score(y_test, y_pred), 2)\n",
    "    print(\"Precision:\", precision)\n",
    "    print(\"Recall:\", recall)\n",
    "\n",
    "    # Confusion Matrix\n",
    "    cm = confusion_matrix(y_test, y_pred)\n",
    "    plt.figure(figsize=(8, 6))\n",
    "    plt.title(\"Confusion Matrix\")\n",
    "    sns.heatmap(cm, annot=True, fmt=\"d\", cmap=\"Greens\")\n",
    "    plt.xlabel(\"Predicted Labels\")\n",
    "    plt.ylabel(\"True Labels\")\n",
    "    plt.show()\n",
    "\n",
    "    # AUC-ROC Curve\n",
    "    if y_scores is not None:\n",
    "        fpr, tpr, thresholds = roc_curve(y_test, y_scores)\n",
    "        roc_auc = round(auc(fpr, tpr), 2)\n",
    "        plt.figure(figsize=(8, 6))\n",
    "        plt.plot(fpr, tpr, color='darkorange', lw=2, label=f'AUC = {roc_auc}')\n",
    "        plt.plot([0, 1], [0, 1], color='navy', lw=2, linestyle='--')\n",
    "        plt.xlim([0.0, 1.0])\n",
    "        plt.ylim([0.0, 1.05])\n",
    "        plt.xlabel('False Positive Rate')\n",
    "        plt.ylabel('True Positive Rate')\n",
    "        plt.title(f'AOC-ROC Curve for {model_name}')\n",
    "        plt.legend(loc=\"lower right\")\n",
    "        plt.show()\n",
    "\n",
    "    return\n"
   ]
  },
  {
   "cell_type": "code",
   "execution_count": 26,
   "id": "c6a9d5a8",
   "metadata": {},
   "outputs": [
    {
     "name": "stdout",
     "output_type": "stream",
     "text": [
      "Classification report for KNN CLASSIFIER \n",
      "\n",
      "              precision    recall  f1-score   support\n",
      "\n",
      "           0       0.52      0.49      0.50        72\n",
      "           1       0.61      0.64      0.62        89\n",
      "\n",
      "    accuracy                           0.57       161\n",
      "   macro avg       0.56      0.56      0.56       161\n",
      "weighted avg       0.57      0.57      0.57       161\n",
      "\n",
      "Accuracy: 0.57\n",
      "F1-score: 0.62\n",
      "Jaccard's Index: 0.45\n",
      "Precision: 0.61\n",
      "Recall: 0.64\n"
     ]
    },
    {
     "data": {
      "image/png": "[encoded data removed]",
      "text/plain": [
       "<Figure size 800x600 with 2 Axes>"
      ]
     },
     "metadata": {},
     "output_type": "display_data"
    },
    {
     "data": {
      "image/png": "[encoded data removed]",
      "text/plain": [
       "<Figure size 800x600 with 1 Axes>"
      ]
     },
     "metadata": {},
     "output_type": "display_data"
    }
   ],
   "source": [
    "from sklearn.neighbors import KNeighborsClassifier\n",
    "\n",
    "model_name = \"KNN CLASSIFIER\"\n",
    "knn = KNeighborsClassifier(n_neighbors=5)\n",
    "knn.fit(X_train_tfidf, y_train)\n",
    "y_pred_knn = knn.predict(X_test_tfidf)\n",
    "y_scores_knn = knn.predict_proba(X_test_tfidf)[:, 1]\n",
    "\n",
    "model_evaluation(y_test, y_pred_knn, model_name, y_scores_knn)"
   ]
  },
  {
   "cell_type": "code",
   "execution_count": 27,
   "id": "deb78fe8",
   "metadata": {},
   "outputs": [
    {
     "name": "stdout",
     "output_type": "stream",
     "text": [
      "Classification report for NAIVE BAYES \n",
      "\n",
      "              precision    recall  f1-score   support\n",
      "\n",
      "           0       0.54      0.19      0.29        72\n",
      "           1       0.57      0.87      0.69        89\n",
      "\n",
      "    accuracy                           0.57       161\n",
      "   macro avg       0.55      0.53      0.49       161\n",
      "weighted avg       0.56      0.57      0.51       161\n",
      "\n",
      "Accuracy: 0.57\n",
      "F1-score: 0.69\n",
      "Jaccard's Index: 0.52\n",
      "Precision: 0.57\n",
      "Recall: 0.87\n"
     ]
    },
    {
     "data": {
      "image/png": "[encoded data removed]",
      "text/plain": [
       "<Figure size 800x600 with 2 Axes>"
      ]
     },
     "metadata": {},
     "output_type": "display_data"
    },
    {
     "data": {
      "image/png": "[encoded data removed]",
      "text/plain": [
       "<Figure size 800x600 with 1 Axes>"
      ]
     },
     "metadata": {},
     "output_type": "display_data"
    }
   ],
   "source": [
    "# Naive Bayes\n",
    "from sklearn.naive_bayes import MultinomialNB\n",
    "model_name=\"NAIVE BAYES\"\n",
    "nb=MultinomialNB()\n",
    "nb.fit(X_train_tfidf, y_train)\n",
    "y_pred_nb=nb.predict(X_test_tfidf)\n",
    "y_scores_nb = nb.predict_proba(X_test_tfidf)[:, 1]\n",
    "\n",
    "model_evaluation(y_test, y_pred_nb, model_name, y_scores_nb)"
   ]
  },
  {
   "cell_type": "code",
   "execution_count": 28,
   "id": "86f315da",
   "metadata": {},
   "outputs": [
    {
     "name": "stdout",
     "output_type": "stream",
     "text": [
      "Classification report for LOGISTIC REGRESSION \n",
      "\n",
      "              precision    recall  f1-score   support\n",
      "\n",
      "           0       0.51      0.43      0.47        72\n",
      "           1       0.59      0.66      0.62        89\n",
      "\n",
      "    accuracy                           0.56       161\n",
      "   macro avg       0.55      0.55      0.55       161\n",
      "weighted avg       0.55      0.56      0.55       161\n",
      "\n",
      "Accuracy: 0.56\n",
      "F1-score: 0.62\n",
      "Jaccard's Index: 0.45\n",
      "Precision: 0.59\n",
      "Recall: 0.66\n"
     ]
    },
    {
     "data": {
      "image/png": "[encoded data removed]",
      "text/plain": [
       "<Figure size 800x600 with 2 Axes>"
      ]
     },
     "metadata": {},
     "output_type": "display_data"
    },
    {
     "data": {
      "image/png": "[encoded data removed]",
      "text/plain": [
       "<Figure size 800x600 with 1 Axes>"
      ]
     },
     "metadata": {},
     "output_type": "display_data"
    }
   ],
   "source": [
    "# Logistic Regression\n",
    "from sklearn.linear_model import LogisticRegression\n",
    "model_name=\"LOGISTIC REGRESSION\"\n",
    "lr=LogisticRegression()\n",
    "lr.fit(X_train_tfidf, y_train)\n",
    "y_pred_lr=lr.predict(X_test_tfidf)\n",
    "y_scores_lr = lr.predict_proba(X_test_tfidf)[:, 1]\n",
    "\n",
    "model_evaluation(y_test, y_pred_lr, model_name, y_scores_lr)"
   ]
  },
  {
   "cell_type": "code",
   "execution_count": 30,
   "id": "81ed9ee3",
   "metadata": {},
   "outputs": [
    {
     "data": {
      "text/plain": [
       "['D:\\\\SEM 3\\\\PDS Journal\\\\fake_news_model.pkl']"
      ]
     },
     "execution_count": 30,
     "metadata": {},
     "output_type": "execute_result"
    }
   ],
   "source": [
    "import joblib\n",
    "model = nb\n",
    "model_path = 'D:\\\\SEM 3\\\\PDS Journal\\\\fake_news_model.pkl'\n",
    "joblib.dump(model, model_path)"
   ]
  },
  {
   "cell_type": "code",
   "execution_count": 31,
   "id": "6461094f",
   "metadata": {},
   "outputs": [
    {
     "data": {
      "text/plain": [
       "['D:\\\\SEM 3\\\\PDS Journal\\\\tfidf_vectorizer.pkl']"
      ]
     },
     "execution_count": 31,
     "metadata": {},
     "output_type": "execute_result"
    }
   ],
   "source": [
    "model=nb\n",
    "vectorizer = TfidfVectorizer() \n",
    "X_train_tfidf = vectorizer.fit_transform(X_train_processed)\n",
    "\n",
    "model_path=\"D:\\\\SEM 3\\\\PDS Journal\\\\tfidf_vectorizer.pkl\"\n",
    "joblib.dump(vectorizer, model_path)"
   ]
  },
  {
   "cell_type": "code",
   "execution_count": null,
   "id": "caf2a28b",
   "metadata": {},
   "outputs": [],
   "source": []
  }
 ],
 "metadata": {
  "kernelspec": {
   "display_name": "Python 3 (ipykernel)",
   "language": "python",
   "name": "python3"
  },
  "language_info": {
   "codemirror_mode": {
    "name": "ipython",
    "version": 3
   },
   "file_extension": ".py",
   "mimetype": "text/x-python",
   "name": "python",
   "nbconvert_exporter": "python",
   "pygments_lexer": "ipython3",
   "version": "3.11.3"
  }
 },
 "nbformat": 4,
 "nbformat_minor": 5
}
